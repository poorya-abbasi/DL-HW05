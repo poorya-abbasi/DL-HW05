{
  "cells": [
    {
      "cell_type": "markdown",
      "metadata": {
        "id": "view-in-github",
        "colab_type": "text"
      },
      "source": [
        "<a href=\"https://colab.research.google.com/github/poorya-abbasi/DL-HW05/blob/main/Poorya's_Version.ipynb\" target=\"_parent\"><img src=\"https://colab.research.google.com/assets/colab-badge.svg\" alt=\"Open In Colab\"/></a>"
      ]
    },
    {
      "cell_type": "markdown",
      "metadata": {
        "id": "eJdYhDpAU5G1"
      },
      "source": [
        "#Importing Dependencies"
      ]
    },
    {
      "cell_type": "code",
      "execution_count": 3,
      "metadata": {
        "id": "OQb6_CufUtWO"
      },
      "outputs": [],
      "source": [
        "import numpy as np\n",
        "import math   \n",
        "from keras.models import Sequential\n",
        "from keras.layers import Dense\n",
        "from keras.layers import Dropout\n",
        "from keras.layers import LSTM\n",
        "from keras.callbacks import ModelCheckpoint\n",
        "from keras.utils import np_utils\n",
        "from os import listdir\n",
        "from os.path import isfile, join"
      ]
    },
    {
      "cell_type": "markdown",
      "metadata": {
        "id": "ylEduN9GvmrH"
      },
      "source": [
        "#Mounting To Google Drive"
      ]
    },
    {
      "cell_type": "code",
      "execution_count": 4,
      "metadata": {
        "colab": {
          "base_uri": "https://localhost:8080/",
          "height": 336
        },
        "id": "rFpXwEo1WDx2",
        "outputId": "1d5029a8-d873-40b4-8ab1-08625a0b35b3"
      },
      "outputs": [
        {
          "output_type": "error",
          "ename": "ValueError",
          "evalue": "ignored",
          "traceback": [
            "\u001b[0;31m---------------------------------------------------------------------------\u001b[0m",
            "\u001b[0;31mValueError\u001b[0m                                Traceback (most recent call last)",
            "\u001b[0;32m<ipython-input-4-4be28ad9ce06>\u001b[0m in \u001b[0;36m<module>\u001b[0;34m()\u001b[0m\n\u001b[1;32m      1\u001b[0m \u001b[0;32mfrom\u001b[0m \u001b[0mgoogle\u001b[0m\u001b[0;34m.\u001b[0m\u001b[0mcolab\u001b[0m \u001b[0;32mimport\u001b[0m \u001b[0mdrive\u001b[0m\u001b[0;34m\u001b[0m\u001b[0;34m\u001b[0m\u001b[0m\n\u001b[0;32m----> 2\u001b[0;31m \u001b[0mdrive\u001b[0m\u001b[0;34m.\u001b[0m\u001b[0mmount\u001b[0m\u001b[0;34m(\u001b[0m\u001b[0;34m'/content/drive'\u001b[0m\u001b[0;34m)\u001b[0m\u001b[0;34m\u001b[0m\u001b[0;34m\u001b[0m\u001b[0m\n\u001b[0m",
            "\u001b[0;32m/usr/local/lib/python3.7/dist-packages/google/colab/drive.py\u001b[0m in \u001b[0;36mmount\u001b[0;34m(mountpoint, force_remount, timeout_ms)\u001b[0m\n\u001b[1;32m    107\u001b[0m       \u001b[0mforce_remount\u001b[0m\u001b[0;34m=\u001b[0m\u001b[0mforce_remount\u001b[0m\u001b[0;34m,\u001b[0m\u001b[0;34m\u001b[0m\u001b[0;34m\u001b[0m\u001b[0m\n\u001b[1;32m    108\u001b[0m       \u001b[0mtimeout_ms\u001b[0m\u001b[0;34m=\u001b[0m\u001b[0mtimeout_ms\u001b[0m\u001b[0;34m,\u001b[0m\u001b[0;34m\u001b[0m\u001b[0;34m\u001b[0m\u001b[0m\n\u001b[0;32m--> 109\u001b[0;31m       ephemeral=True)\n\u001b[0m\u001b[1;32m    110\u001b[0m \u001b[0;34m\u001b[0m\u001b[0m\n\u001b[1;32m    111\u001b[0m \u001b[0;34m\u001b[0m\u001b[0m\n",
            "\u001b[0;32m/usr/local/lib/python3.7/dist-packages/google/colab/drive.py\u001b[0m in \u001b[0;36m_mount\u001b[0;34m(mountpoint, force_remount, timeout_ms, ephemeral)\u001b[0m\n\u001b[1;32m    256\u001b[0m             \u001b[0;34m': timeout during initial read of root folder; for more info: '\u001b[0m\u001b[0;34m\u001b[0m\u001b[0;34m\u001b[0m\u001b[0m\n\u001b[1;32m    257\u001b[0m             'https://research.google.com/colaboratory/faq.html#drive-timeout')\n\u001b[0;32m--> 258\u001b[0;31m       \u001b[0;32mraise\u001b[0m \u001b[0mValueError\u001b[0m\u001b[0;34m(\u001b[0m\u001b[0;34m'mount failed'\u001b[0m \u001b[0;34m+\u001b[0m \u001b[0mextra_reason\u001b[0m\u001b[0;34m)\u001b[0m\u001b[0;34m\u001b[0m\u001b[0;34m\u001b[0m\u001b[0m\n\u001b[0m\u001b[1;32m    259\u001b[0m     \u001b[0;32melif\u001b[0m \u001b[0mcase\u001b[0m \u001b[0;34m==\u001b[0m \u001b[0;36m4\u001b[0m\u001b[0;34m:\u001b[0m\u001b[0;34m\u001b[0m\u001b[0;34m\u001b[0m\u001b[0m\n\u001b[1;32m    260\u001b[0m       \u001b[0;31m# Terminate the DriveFS binary before killing bash.\u001b[0m\u001b[0;34m\u001b[0m\u001b[0;34m\u001b[0m\u001b[0;34m\u001b[0m\u001b[0m\n",
            "\u001b[0;31mValueError\u001b[0m: mount failed: timeout during initial read of root folder; for more info: https://research.google.com/colaboratory/faq.html#drive-timeout"
          ]
        }
      ],
      "source": [
        "from google.colab import drive \n",
        "drive.mount('/content/drive')"
      ]
    },
    {
      "cell_type": "code",
      "execution_count": null,
      "metadata": {
        "id": "4RucblA8iaMb"
      },
      "outputs": [],
      "source": [
        "from google.colab import drive\n",
        "drive.mount('/content/drive')"
      ]
    },
    {
      "cell_type": "markdown",
      "metadata": {
        "id": "OuAdJelhVHC8"
      },
      "source": [
        "#Preparing Data"
      ]
    },
    {
      "cell_type": "code",
      "execution_count": null,
      "metadata": {
        "id": "nUjxjt9DVGh7"
      },
      "outputs": [],
      "source": [
        "dataPath=\"/content/drive/MyDrive/DL_Dataset/FinalProjectMat/\"\n",
        "noteNames = [f[:-4] for f in listdir(dataPath+\"/piano_triads\") if isfile(join(dataPath+\"/piano_triads\", f))]\n",
        "artifcatNames = [f[:-4] for f in listdir(dataPath+\"/artifacts\") if isfile(join(dataPath+\"/artifacts\", f))]\n",
        "artifacts = list()\n",
        "print(\"Note Source Count : \",len(noteNames))\n",
        "print(\"Artifact Source Count : \",len(artifcatNames))"
      ]
    },
    {
      "cell_type": "markdown",
      "metadata": {
        "id": "nob6IVv-j32C"
      },
      "source": [
        "#Combining Random N Notes Together"
      ]
    },
    {
      "cell_type": "code",
      "execution_count": 10,
      "metadata": {
        "id": "tRKUjqQpj3XF"
      },
      "outputs": [],
      "source": [
        "from random import randint\n",
        "import librosa\n",
        "import os.path\n",
        "import soundfile as sf\n",
        "\n",
        "global_sample_rate = 2756\n",
        "\n",
        "def combineRandomNotes(n, filename=\"generated.wav\"):\n",
        "  basePath = dataPath+\"piano_triads/\"\n",
        "  outputPath = dataPath;\n",
        "  selectedNotes = list()\n",
        "  min = 0\n",
        "  max = len(noteNames)\n",
        "  for i in range(0,n):\n",
        "    rnd = randint(min,max-1)\n",
        "    selectedNotes.append(noteNames[rnd])\n",
        "  print(selectedNotes)\n",
        "  for i in range(0,len(selectedNotes)):\n",
        "    selectedNotes[i], sr=librosa.load(basePath+selectedNotes[i]+'.wav', sr=global_sample_rate)\n",
        "  data = np.concatenate(selectedNotes)\n",
        "  sf.write(outputPath+filename, data, global_sample_rate, 'PCM_16')\n",
        "  return data"
      ]
    },
    {
      "cell_type": "markdown",
      "metadata": {
        "id": "IWZKtZY40wph"
      },
      "source": [
        "#Adding Noise To Sounds\n",
        "![image.png](data:image/png;base64,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)\n",
        "\n",
        "![image.png](data:image/png;base64,iVBORw0KGgoAAAANSUhEUgAAA0MAAAB4CAIAAAC/975LAAAMbGlDQ1BJQ0MgUHJvZmlsZQAASImVVwdYU8kWnluSkJDQAghICb0jUgNICaEFkF4EGyEJJJQYE4KKvSwquHYRxYquiii2lWYBsSuLYu+LBRVlXdTFhsqbkICu+8r3zvfNvX/OnPlPuTO59wCg+YErkeShWgDkiwukCeHBjDFp6QzSU4ADdYAAHUDk8mQSVlxcNIAyeP+7vLsBLaFcdVZw/XP+v4oOXyDjAYCMgziTL+PlQ9wMAL6BJ5EWAEBU6C2nFEgUeA7EulIYIMSrFThbiXcpcKYSHx2wSUpgQ3wZADUqlyvNBkDjHtQzCnnZkEfjM8SuYr5IDICmE8QBPCGXD7Eidqf8/EkKXA6xHbSXQAzjAczM7ziz/8afOcTP5WYPYWVeA6IWIpJJ8rjT/s/S/G/Jz5MP+rCBgyqURiQo8oc1vJU7KUqBqRB3izNjYhW1hviDiK+sOwAoRSiPSFbao8Y8GRvWD+hD7MrnhkRBbAxxmDgvJlqlz8wShXEghrsFnSoq4CRBbADxIoEsNFFls0U6KUHlC63NkrJZKv05rnTAr8LXA3luMkvF/0Yo4Kj4MY0iYVIqxBSIrQpFKTEQa0DsIstNjFLZjCoSsmMGbaTyBEX8VhAnCMThwUp+rDBLGpagsi/Jlw3mi20RijgxKnywQJgUoawPdorHHYgf5oJdFohZyYM8AtmY6MFc+IKQUGXu2HOBODlRxfNBUhCcoFyLUyR5cSp73EKQF67QW0DsIStMVK3FUwrg5lTy41mSgrgkZZx4UQ43Mk4ZD74cRAM2CAEMIIcjE0wCOUDU1l3XDX8pZ8IAF0hBNhAAZ5VmcEXqwIwYXhNBEfgDIgGQDa0LHpgVgEKo/zKkVV6dQdbAbOHAilzwFOJ8EAXy4G/5wCrxkLcU8ARqRP/wzoWDB+PNg0Mx/+/1g9pvGhbURKs08kGPDM1BS2IoMYQYQQwj2uNGeADuh0fDaxAcbjgT9xnM45s94SmhnfCIcJ3QQbg9UTRP+kOUo0EH5A9T1SLz+1rgNpDTEw/G/SE7ZMb1cSPgjHtAPyw8EHr2hFq2Km5FVRg/cP8tg++ehsqO7EpGycPIQWS7H1dqOGh4DrEoav19fZSxZg7Vmz0086N/9nfV58N71I+W2CLsEHYWO4Gdx45idYCBNWH1WCt2TIGHdteTgd016C1hIJ5cyCP6h7/BJ6uopMy12rXL9bNyrkAwtUBx8NiTJNOkomxhAYMF3w4CBkfMc3FiuLm6uQGgeNco/77exg+8QxD91m+6+b8D4N/U399/5JsusgmAA97w+Dd809kxAdBWB+BcA08uLVTqcMWFAP8lNOFJMwSmwBLYwXzcgBfwA0EgFESCWJAE0sAEGL0Q7nMpmAJmgLmgGJSC5WANWA82g21gF9gLDoI6cBScAGfARXAZXAd34e7pBC9BD3gH+hAEISE0hI4YImaINeKIuCFMJAAJRaKRBCQNyUCyETEiR2Yg85FSZCWyHtmKVCEHkAbkBHIeaUduIw+RLuQN8gnFUCqqi5qgNugIlImy0Cg0CR2PZqOT0SJ0AboULUcr0T1oLXoCvYheRzvQl2gvBjB1TB8zx5wxJsbGYrF0LAuTYrOwEqwMq8RqsEb4nK9iHVg39hEn4nScgTvDHRyBJ+M8fDI+C1+Cr8d34bX4Kfwq/hDvwb8SaARjgiPBl8AhjCFkE6YQigllhB2Ew4TT8Cx1Et4RiUR9oi3RG57FNGIOcTpxCXEjcR+xmdhOfEzsJZFIhiRHkj8plsQlFZCKSetIe0hNpCukTtIHNXU1MzU3tTC1dDWx2jy1MrXdasfVrqg9U+sja5Gtyb7kWDKfPI28jLyd3Ei+RO4k91G0KbYUf0oSJYcyl1JOqaGcptyjvFVXV7dQ91GPVxepz1EvV9+vfk79ofpHqg7VgcqmjqPKqUupO6nN1NvUtzQazYYWREunFdCW0qpoJ2kPaB806BouGhwNvsZsjQqNWo0rGq80yZrWmizNCZpFmmWahzQvaXZrkbVstNhaXK1ZWhVaDVo3tXq16dojtWO187WXaO/WPq/9XIekY6MTqsPXWaCzTeekzmM6Rreks+k8+nz6dvppeqcuUddWl6Obo1uqu1e3TbdHT0fPQy9Fb6pehd4xvQ59TN9Gn6Ofp79M/6D+Df1Pw0yGsYYJhi0eVjPsyrD3BsMNggwEBiUG+wyuG3wyZBiGGuYarjCsM7xvhBs5GMUbTTHaZHTaqHu47nC/4bzhJcMPDr9jjBo7GCcYTzfeZtxq3GtiahJuIjFZZ3LSpNtU3zTINMd0telx0y4zulmAmchstVmT2QuGHoPFyGOUM04xesyNzSPM5eZbzdvM+yxsLZIt5lnss7hvSbFkWmZZrrZsseyxMrMabTXDqtrqjjXZmmkttF5rfdb6vY2tTarNQps6m+e2BrYc2yLbatt7djS7QLvJdpV21+yJ9kz7XPuN9pcdUAdPB6FDhcMlR9TRy1HkuNGx3Yng5OMkdqp0uulMdWY5FzpXOz900XeJdpnnUufyaoTViPQRK0acHfHV1dM1z3W7692ROiMjR84b2TjyjZuDG8+twu2aO809zH22e737aw9HD4HHJo9bnnTP0Z4LPVs8v3h5e0m9ary6vK28M7w3eN9k6jLjmEuY53wIPsE+s32O+nz09fIt8D3o+6efs1+u326/56NsRwlGbR/12N/Cn+u/1b8jgBGQEbAloCPQPJAbWBn4KMgyiB+0I+gZy56Vw9rDehXsGiwNPhz8nu3LnsluDsFCwkNKQtpCdUKTQ9eHPgizCMsOqw7rCfcMnx7eHEGIiIpYEXGTY8Lhcao4PZHekTMjT0VRoxKj1kc9inaIlkY3jkZHR45eNfpejHWMOKYuFsRyYlfF3o+zjZscdySeGB8XXxH/NGFkwoyEs4n0xImJuxPfJQUnLUu6m2yXLE9uSdFMGZdSlfI+NSR1ZWrHmBFjZo65mGaUJkqrTyelp6TvSO8dGzp2zdjOcZ7jisfdGG87fur48xOMJuRNODZRcyJ34qEMQkZqxu6Mz9xYbiW3N5OTuSGzh8fmreW95AfxV/O7BP6ClYJnWf5ZK7OeZ/tnr8ruEgYKy4TdIrZoveh1TkTO5pz3ubG5O3P781Lz9uWr5WfkN4h1xLniU5NMJ02d1C5xlBRLOib7Tl4zuUcaJd0hQ2TjZfUFuvCjvlVuJ/9J/rAwoLCi8MOUlCmHpmpPFU9tneYwbfG0Z0VhRb9Mx6fzprfMMJ8xd8bDmayZW2chszJntcy2nL1gduec8Dm75lLm5s79bZ7rvJXz/pqfOr9xgcmCOQse/xT+U3WxRrG0+OZCv4WbF+GLRIvaFrsvXrf4awm/5EKpa2lZ6eclvCUXfh75c/nP/UuzlrYt81q2aTlxuXj5jRWBK3at1F5ZtPLxqtGralczVpes/mvNxDXnyzzKNq+lrJWv7SiPLq9fZ7Vu+brP64Xrr1cEV+zbYLxh8Yb3G/kbr2wK2lSz2WRz6eZPW0Rbbm0N31pbaVNZto24rXDb0+0p28/+wvylaofRjtIdX3aKd3bsSth1qsq7qmq38e5l1Wi1vLprz7g9l/eG7K2vca7Zuk9/X+l+sF++/8WBjAM3DkYdbDnEPFTzq/WvGw7TD5fUIrXTanvqhHUd9Wn17Q2RDS2Nfo2Hj7gc2XnU/GjFMb1jy45Tji843t9U1NTbLGnuPpF94nHLxJa7J8ecvHYq/lTb6ajT586EnTl5lnW26Zz/uaPnfc83XGBeqLvodbG21bP18G+evx1u82qrveR9qf6yz+XG9lHtx68EXjlxNeTqmWucaxevx1xvv5F849bNcTc7bvFvPb+dd/v1ncI7fXfn3CPcK7mvdb/sgfGDyt/tf9/X4dVx7GHIw9ZHiY/uPuY9fvlE9uRz54KntKdlz8yeVT13e360K6zr8ouxLzpfSl72dRf/of3Hhld2r379M+jP1p4xPZ2vpa/73yx5a/h2518ef7X0xvU+eJf/ru99yQfDD7s+Mj+e/ZT66VnflM+kz+Vf7L80fo36eq8/v79fwpVyBz4FMDjQrCwA3uwEgJYGAB32bZSxyl5wQBBl/zqAwH/Cyn5xQLwAqIHf7/Hd8OvmJgD7t8P2C/Jrwl41jgZAkg9A3d2HhkpkWe5uSi4q7FMID/r738KejbQKgC/L+/v7Kvv7v2yDwcLesVms7EEVQoQ9w5bQL5n5meDfiLI//S7HH+9AEYEH+PH+L4TJkK1opPDuAAAAOGVYSWZNTQAqAAAACAABh2kABAAAAAEAAAAaAAAAAAACoAIABAAAAAEAAANDoAMABAAAAAEAAAB4AAAAAE3UFSsAAEAASURBVHgB7d153HbFHD9wZN+y/SwhRLJmz75GRGTfpUQlW6nIUiiytNijSMqSNWuEhAjZC5W97LLvO7833595ze+c6zrXuZbnua9z39/7j+c515yZOTOfMzPfz3eZOef+97//fa78SwQSgUQgEUgEEoFEIBEYIALnGWCbs8mJQCKQCCQCiUAikAgkAv9BIJlcjoNEIBFIBBKBRCARSASGikAyuaG+uWx3IpAIJAKJQCKQCCQCyeRyDCQCiUAikAgkAolAIjBUBJLJDfXNZbsTgUQgEUgEEoFEIBFIJpdjIBFIBBKBRCARSAQSgaEikExuqG8u250IJAKJQCKQCCQCiUAyuRwDiUAikAgkAolAIpAIDBWBZHJDfXPZ7kQgEUgEEoFEIBFIBJLJ5RhIBBKBRCARSAQSgURgqAgkkxvqm8t2JwKJQCKQCCQCiUAikEwux0AikAgkAolAIpAIJAJDRSCZ3FDfXLY7EUgEEoFEIBFIBBKBZHI5BhKBRCARSAQSgUQgERgqAsnkhvrmst2JQCKQCCQCiUAikAgkk8sxkAgkAolAIpAIJAKJwFARSCY31DeX7U4EEoFEIBFIBBKBRCCZXI6BRCARSAQSgUQgEUgEhopAMrmhvrlsdyKQCCQCiUAikAgkAsnkcgwkAolAIpAIJAKJQCIwVASSyQ31zWW7E4FEIBFIBBKBRCARSCaXYyARSAQSgUQgEUgEEoGhIpBMbqhvLtudCCQCiUAikAgkAonAeZcQgh/84AfHH3/8la985SVsWzZpHSGwwQYb3OUud1lHlWe1iUAikAgkAonAakVgGZnc6173uqOOOuqyl73sagU9+9VG4MIXvnAyuTYsmZIIJAKJQCKQCHQjsHRM7o9//OORRx6p0Te96U27m553VxMCF7jABVZTd7IviUAikAgkAonA+kFg6Zjcl770pe9///u77rrr3nvvvX4gyKcsAwLnPve5l6EZ2YZEIBFIBBKBRGBYCCwdk3vPe97z73//+4EPfOCVrnSlYUGZrU0EEoFEIBFIBBKBRGA9I3ButGk9P7LjcX/7299ucIMb/OlPf/r6179+0YtetJHzO9/5zuGHH/7Xv/61kb4uftpvsccee6yLmrPORCARSAQSgUQgEUgEFoXActnkvva1r33rW9/afvvt2zROh3/84x+/+MUv/vvf/x6dv+pVrzoy2zhocNZ//OMfiuOL/v3DH/4gJm9cZvstHvawh13+8pcflyHTE4FEIBFIBBKBRCARWHEElovJve997/vnP/95n/vcZyQum2yyya1vfeuPf/zjcReT22233c5znr5H4mFyKg8y598///nPv/nNb37+85+fddZZ3/3ud7/xjW+wBZbnnnPOOR/60Ice+chHlpS8SAQSgUQgEUgEEoFEYNkQWCLvKpq1xRZb/OhHPzr99NMvdalLjUTqxBNP3G677eRxd+ONNz7iiCPufOc7j8zZJ5FxDpn7yU9+okJk7pRTTjn55JO/973vRVk1I3P9mWKfJ2aeRCARSAQSgUQgEUgEFojAEjG5M88884Y3vOG222771re+dVwP2dJe8YpXPPWpT0XC5Lnd7W539NFHX+UqVxmXv3+6mr/97W+feuqp7ILvete72Oe4br/whS9sttlm/SvJnIlAIpAIJAKJQCKQCKxPBDZ49rOfvT6f1/GsN7zhDR/4wAee+cxnXu961xuXjYUMtfrhD3+IcsnjvBKUbssttzzveed1E6v5Mpe5zHWve93rXOc6V7ziFW25+OUvf+niNre5zbjGZHoikAgkAolAIpAIJAIri8Cy2OT+9a9/3fGOdzzttNPOOOOMifsM0Cw+VifPwe7iF7/4wQcfvOOOOy7wQDIGOaa+Zz3rWVe4whW4XPscWisITxd8cmplX+e6ezrfN7LbB2RQCDo86aSTxBr+7ne/23DDDTfaaKPb3va2V7/61fsUX3ddyJoTgUQgEUgEEoHVh8Cy2OTOPvvsffbZh7zfaaedJsr7//PfvxNOOMGuBYeS4A0C7BZ4/tz5znc+lrkLXehCb3vb23xCauIXYHlm3/KWt/zqV7+62tWutvqGSPToU5/61Kc//elrX/va3YGDaBzf9Hvf+97zn//8gh0veMELikR8//vf/5nPfMYtJs+JL3e1Apj9SgQSgUQgEUgE1gUCy8Lk3vGOd7zzne/ca6+9bnKTm0zsJzZgHysO98lPfhI/4Aa1a8EGhYtc5CITy/bMgMyhHZ/97Gd/9rOfbb311h2l/vKXvwjdk/P2t789G15HzkHf+vWvf839zZ19oxvdqMOXjVWLYsTI73//+3NM3/zmN+cN914cBPiVr3xFHOREWjxolLLxiUAikAgkAonAekag7xEe67pZ7373u31Dfauttur5IB7PXXbZZZttton8Npm+5CUvYRvrWbxPNn7bPffckw+3Pp2kUdATX/3qVx9//PEPfvCD0ZTG3dX004nNPrxhO8hhhx3G0zquazYXQ4x5kokUG8b5bDF++MMfjuY6LJDlclzBTE8EEoFEIBFIBBKBGRBYCibH7sVzd9Ob3nQqgw0D2DOe8YxNN91UtzGq1772tfx6M0DQUQT/eNzjHtfhTzz22GNf9apXOXaOE3Z1+w31jm1STw899FC9HgcapyqSzURaZ+Bj9XKlfPnLX67T8zoRSAQSgUQgEUgE5kRgKZjcJz7xCc475490cKaR/bzZzW72tKc9LZyqzvg94IADbIYYmXO2RBTkIQ95iH9HFndqyfOe9zwheve+972nbfnICpc80X4OPlOmR712/N7I1vJxH3TQQY961KMad70dKeIbG+n5MxFIBBKBRCARSATmQWApmBxbGk/c3e9+92l7wlDE5WfjahQUiYVkCLGftp4Z8tupyp+LoPDALjA+b4aWrM8ieiqW8ac//elLX/pSCLQf7cMbj3nMYzDs+pZTYzigec/tOK7T8zoRSAQSgUQgEUgE5kRg5Zkc4vWxj31s8803v8Y1rjFDZ3AL3+ziBo2ySKFArpEkY4bKO4p89atfPeaYY+5617tqeUe21XfLjoe73e1ub3rTm3qaP7nO999/f5FzT3nKU/igVx8g2aNEIBFIBBKBRGAFEVh5Jud8CsL+nve8Z8eOyG6AnP3hBBOn+MoWO0k/8pGPdBeZ/+4b3/hG7MRGh9UdHtcGio9Vr+0XduRe+24jhc3yuc997he/+MXnPOc5T3jCE9aO8bKBQ/5MBBKBRCARSATWEQIrz+TsWhVkdq973WueHrLJ7bHHHly0KuHLYwQqn0+dp9pxZX1YQrNtz7zFLW4xLs9C0hkXbS9wtMdCaltUJXptu4mGxTfTxlX7ne98Z7/99sP5fLdD5NwlL3lJPHtc5kxPBBKBRCARSAQSgRkQWOFvPPzxj390bJszeIW49fmUQkcPWci4WZ15Jg87mROGX/ziF6u5o8jMt7hWORkf9rCHHXXUURMrceLd6aef7sA5BioNu+xlL3uPe9xDImOk78Y6Prejhl/84hc8kk7xwFM7sn3+85//6Ec/+ve///2a17wmTqzX6nfqhx3Bv//97//whz9gUZ6lzR2VTHXroQ99qGOTvbVxn1b73Oc+511c4hKXsJHFGYE6ri9HHHGE0+amelBmTgQSgUQgEUgEEoEOBFbYJufsMYfN2uswJ43TQ5QIS4hD3fCYN7/5zdx/Ljo6P/OtD3/4w85Uu9WtbjWxBixK3N6+++7LQOUrZP6YDDkcfWGMvcqHE9o1NNqMLdWHejTuKm4b6Wte8xofjUXa1Ow0FmcmH3nkkT60wEjJeOah7GdObFngISBO/YWA0+Pa7WdHPO644wQsInmPfexj0UcUU9t8kwOdbefPlEQgEUgEEoFEIBGYGYF5Pzw/84Oj4Hve8x7UxCkec9YTxX1iS8CcvZPsc6gDtnT961+/D9+a9unMaYr4dFV3wd/+9rcHHnigiDpGOKeZaB7T1Le+9S0RY0LHNBLlatSg2YqoGSZMa2xazkBhxotszGw42S1vect66wC7IBpnWyjOp+whhxzidD3bSx0I4hMLF7vYxVAu/lk7bVGriWY5r0MjG61q/9QXiZjoE5/4xPouf6v+Oi1Z3+90pzvFrgjcTvqpp55aN7suldeJQCKQCCQCiUAiMCMCJPdK/eEx17rWta5ylaugL4tqg0gsZK5wEbssGbQWVXmp58Y3vjG4heKVlPYFOuVIFFTsDne4QyMnsqW46EDmtEZBHlh7ePEk9sUzzjjDXdF43JTc0LaL2hfiSLZXvvKVpZRz+GSOnIxeMQge8IAHML+VPC4cGuIWQ1qd2L7+whe+8PSnPx3ta99qpDAxqhAvbKT76lrHHmSG0kb+/JkIJAKJQCKQCCQC8yCwkjY5FiYGKrHwF73oRYOCzP8vLy2PHh7jq+1qs4mVLcqJwYs9ufecc85ROZbW0eCTTz7Z91idscJq5ZS1Omc05upXv3r7mxag4IrlhfRJWeA4LU+Im0rs/WQIZHtzEvId73jHUtsPfvADsXFBntj5pDPC+RJD49Nh4Z/1/bFScOQFh6xPVvTZfaJVasA7G/UwH/oqRiOx/FwX9tFSeV4kAolAIpAIJAJrEIGVZHLIFsfffe5zn8XiLjLMZskzzzzTNxjU75OsbGMLfATiLHhfhR1navAnYpD40yabbLLllls2nh7hcbYgtA9e4Uu1v4EZjy8SH33nO9/piJa3v/3t9oXssMMO+JkLX8QqFeJ2rHdRT/h8bePlVy0Z4iIC1OKTWY1b9U9+WxQNxawTR15H3+EAjWIBlfO2//0bWSQTE4FEIBFIBBKBRGDhCKzYjgccS5CcYPx1cZCHbwzEB6OEmiFANdVYCILoi3p0YVxtTGVxpp3NHA1LGP+vLaUK1qa1uh6tjW0KnsKJyUvrIA9WQCZAntaaxiklZwCo2lNOOUXK/e53v8b2ETFzsddhoklsq622YlHDDuv2jLyOvncgMLJUJiYCiUAikAgkAonAYhFYMZsc16FweAa58NMttldojdA0lGjnnXe2FWCxrlXVajN6JKh/3CdZTzvtNLtWdap8fKJ0kLGQrY4V7da3vnVJLBe4kQ2hPnphVy+7l90bQtzslmD94qvFfZnNsMO2W1ZwmybZrMqeV2qLC1ZJTcX5um1yKKNW9cTKdg2V8+QunCU3Gp8/E4FEIBFIBBKBRKADgRVjch/84AfteFi4a1VXeTYPP/xwp505yWz33XfvjmbrgKbjFqsV2oTNXO5ylxuZzd1It3m2keHjH/84YxuvKwObW9/85jftZihbSpnfnv3sZ5999tmC1Xyu3h6FF7zgBcLguFw5o216+MQnPgG3xo5R9Zx00kmqlTOqLQ+Fhs2kftr8celLX9qFw/D8WzcMCxSWh3qqGfHF+UrxcRcRIWf7xbgMmZ4IJAKJQCKQCCQC6wGBlfGuohe+kYBjtU1W8/dZ2L4zgTfddFObWDfeeOP5K2zX4PtgEtvx/iVnOChZyBoNcLJabMVgHovgNts5xfOVgpynjg5x9tvee+/tFA8WMnFyP/7xj+3wffSjH+3bFb6U1dg/EWWZ8VyIUotqS4WO6xMkx3KGC0rE9tj2VFgycOA6sHfDDTfkBXaIyVvf+tZyq+Mi+g7kjjx5KxFIBBKBRCARSATWNQIrY5NDL2y05AcsJ6Utqp/O0UB38JVnPetZxdC1qMpLPVyc73vf+5z9YddCSawvbnCDG+BGrFx1JBn+au+Cjx/IKYN/WeM4TG1QLWWxW1+aZzyLL4/xivIUB/ES/WbzhE5d+MIXLvnj4s9//nNsd2i7VqVrBlsdgiizr03w29oRUmqwWRU1ZL/0RlgERfiVWx0XwT4bO2Q78uetRGAJEXD+ERM1u7iJRsuizFC9nDFU1iUriYBXe4D6bANawg5mk9YgAgSN4CIRPqKrDWzB4sKBHCbqvKoSZi1ch/LvvKo1iM+q7PLKMDknnyExXKuLjbLCQpzWYV1+0YtexJm42Mrr1++EW+eu2YIqDq9OL9fi2BwF8vKXv9ynDnzUS0uY1pA2fkwzCruKD2qhgziWY0RKQRd2gZSf5iRuJxytpIz8upfYO/5cdbZj74JKeoqoO5+XYJDjP609sFijODwz/JhjjmECFIRXntVx4YwVd9eFSbXjoXlrHSGAlzuzUKDkxPqpE4aZIcpIHOrKxCIyOBfaVm5CpZHZwBb/0Nig08gz8if1xrdMjHlMq86gbYzZDbN0naFc43DiRy1ErMummNlhpvzpT38SZvCWt7zF0uQ0b/UIWhDt4ATHUjAvBoTA6173ujj5srvN1j0jh+5tYXTEKVeDlO4icZcIiO/91Jk32GADKvdsayM9X9xR43vWxIe9aOOsBvWjTQfR5wQN/UQpwkJjTBZ/fEG6Zv+fmUv4CtqhtyeTq9Eb9PXKMDmuVUvnYk/8tzQ///nPN6+e/OQn8yT2Wc1nfnOUmyte8YoWfXp8GM8aVUmMUDYn5eKXhAQxqcs2lprkvqlF0Te73NLajqYyEhx00EHdOxU8mkiz9PDGalWjJbgdcibw7oUvfOHvfvc75rdgliUbxonMaYkTTzyoz1Zi4XQkHHE+sWHlKXmxzAiQHOy+1nd/dkAXykXr2GyzzQwtUiHGsAwEAMaD/dBAxHE6rXripqXQZFgIjBzKDF1LnbQU1mXG4InfSmlDZ1rRSZj2iS7ThxVNxKrtR0I8Paudv5FCuiNntpALk6Dykdy6oKBzthE70QiHHnqoPqKqaJxjLwm/Rg35cxAICGW2ssVK6xM40WbrMN8F6mYQGj9WZuPfq3dspwzetRjibbbZxuI2cSxxhvzoRz/yL+kT4sCoVq3ZNAOTYydzaPwHPvABYkVLNtpoIxNQa00T1U4EXCnR4cJj9Jos4L1BTJU1Z/XOmLeXjquKlBQ5TRHyqaGJdWaGoSCwAkyOdcoaap7UlqE58TIbLc3sCqiSAVobseaseWRx04PKLrzMKj/Oh8sdw09KaSMSSEFN4pPlu7FqMEKgVtieT8uH03PkUyTKueOOO467W9LJQoRviy22oIGVxLhA3cxeTmdyzrUZ3rDqWS/ktARYfcgtCwdhZgnrOIuE2mf9ErdHnDcelz+HiADptdtuuxmZZJLREh8LMRLEa+I6BoM/Y9gfT73hwbgrj/Fv/83nP/95Zbudj8jWTjvtRKASNnQtw0y1ghOkcPdPy+R8GYU5jezUWmjf9773ZRo3qtmVaT7tKdB4I+asAAwbjxwhblMRrYzorfMINiXqxNqarbI5u2ciVa2L5/XyIMDmxJplYDsq4aEPfWg0zIB50pOeZGkNJmdUy0A/MbCZslhkqdnYPI1XkQ41W20WcMqDUW2Rp6KYMsEX40CoqXDAKVkQsS4DW0HyQgwMK5p1W1PbhxU0KtcGuo0PcFNp9txzT1S1sTgTkZtvvrmpx5ukg7S1Pka+xlPy5/IiYACt57+IqbdQLvC5PIMYCQuBqbjAajuqCg8pYUBb6sjmlinkr5FHqXZiI89UP7tr8zhTfVyFlqGwMrLtWdfIcufPjcusKuugNYsjYFyeTB8uAuVYaQu9wTCyIySft89uYV0jZh7xiEcQhCNzthN9k9fp1orEmshU3M7TkWIYE1SEVtHWcMqO/I1bzHiUPcSULbyjzcwzNo8HKfRVlUYl+XNwCMRh7DHkOgYMKwNjVXxziDVaWHPPnpoRDBOieuIRBmfHejuyThPKGagUnqjBaaPqHJmznWhNplZxyDgSQfSbn+08kcJ1ywzhERbwONd9XM5MHxYC/9nMuJ7/7L6kPdNgFvVcMVvs4QYxVWNRdUY9pgSrAz2pXS0/EaVNZDQDVfvusFIYCMk2Ek6zLQQkNJPbuC4wpSDNLIX9F5pxVWX6siHAHsDVHrJEyGl387iTIicyd9hhh3VnLndFPtB/9ttvvyhLdJVbfS6ElopbEJ4RxZniWBf6FJQHMd1jjz1YWVjdzjrrrO5Sxx57bDyC8OvOmXeXHwFhYfE2WarQ9I4GsxPzt0Rm/pYOul9XIlKZ8YzlL3iS4h1LaF0wrs07R4d+9KMfLYHOvkvUzjYuheIt1ME0pCaN076irN45Nl/z+II6CN+4B2X60iLw/7kVYviu03/NIlxBAAritZAHcbWwGAuGYIse99WEmR+EpQlcwHLaNSCjbAM0G5PHlGhnGFCKXtz1rncVXUEfxVwJ2nC5trugp2Q2jZNJY2SAYLtIpgwIAQOe6IoGTwz04c0P6wWthkmgTzdZjllH1GwLTuTvE5BeamYzZtFnuhAtEIncWzyqJUP3BbPHUUcdpQ1G78TQtzjQh2D2iO5q8+7yI8BLHo203b57wOBDXn1kxpDiO4cTO2hUk2hiBkrIEME0sVTJED4lUXF8SpE4cfaVstZkQkrsqRBne9caoQIlW1zoXZBF9Y+Ua438+XMoCMzC5NDSoo5P209OSRZsUdLd8Qc9qxXIafeA6Hs74B70oAdNDJHpWW1kM0OCpVG2RhbER8UciPsRtTMyw1ASGTZ4VMPEKJBODPi4ltsAdfzxx9seOG1s07gKM32pEMDjoz328Rne3W2zDhQdxpEHjAHd+d0l3rAxAaMlrq4/k/MsJ34TV8J9imDuL/A8/eijj+ZRcpy1XUcTm8o2SeRzBHcEjE6sJDMsAwKCO0VzRkv6MJh6JPv+dZ8umDiiEQigGQY2ex4RZlcpGmdTmsdZkOuT27sbYAbZrCpP+8uQIwuGDSWD5EaCM9zEWXY8WEY5R5yv0Yip7IMCtwilAZPrk7k7D+/ey172MgGq4lJ32WWXYtbuLtX/Lj+OOAnxfON0F+k8xSQTlchGznFbH/o/caVy6ggBGXsvxnVW26in9lXwjokT78i2Ur3I586PQGFIaBwy110hQ7gIy8hD1+8zJARCsFsI6DFb5ccFfbnOxgUbCbuf5a5tUqLcfBeYXR9xjPz9mRzDoRmtlBD1EmPX8VDN0ykCr0+/OurJWyuOwFSWZq0VQFLabAyU63EXYWk+4IADZJiWyRmWTvS0g5uRuBi27cXuNhzWLRFTFPyv5zntemS6hY+1rievB43A1DY5egNvphWfq2Langs4Y76yH2d+iw4Z4OsIDguws+ypT31qOclz2iaNy89aboMbM0C3+s67hETy6to5axfeuNoGkU5idQgtmp/j8aChv+FTG0SnspH9ETA9pzJdOGK6VE4N6HbrRE6mC64rpgu7QWNDKEkmoqjUM+5CMJydfdtvvz1TGZ9XiC41sM+NK9JIjy23EpW1ejTujvwJkP5McWQNmbgMCLB4RTPQo4mHmTPIGWCR35AWQjCxC47hpZCwNMtZmFxP7yovh+kQp3gWPWqqUVdaG5NiYmuNavvb8kOLE4EaVobpmBwtHI2LiSEQeNquWvpp1UZtH0Wnu3KD3q43yzq3oE1G3ZmnusvUxxS37777+uYBV+NEjsj5suuuu7Jpxe7xqZ41oMyWCTvbnfBSIuIH1PhV01SxjE5lW0fdoYpwPkblE50vyFDZEyBiss9ZOUwXojKMIo8gvZyJE8/q42DlGCUjzTJFiguYFby/6YIlLx5H6BbhFykj/9VBppE+gnxk8UxcHgTKgOGynOhH4k4tJIyZYGKMgW6yNBvMcZZnYXJ9RjV5ahI5zomJWqRQ8eROxeQUDKhJ5BLt0AE+163DWTqU9o6yeWtpEZjCu2opRJ5EVkZnxIdZmqcKd+POtz7e+973nhMO+14RSlKHd7Vs9pmzTsVNAxZHLhiHq0Xkqdi7PiPe6uBUBbrO/G1Y2hosVQJyc5dDxwsyfoxMx5UhWzbEsD1T06eaIB2Vu0XHEJfpKTad9BmW3bW17xaBx+Y6MVSA9Y5bJyrhcHdqV7vCRortos4sJB0j3aaHsOpNlHkmIw+AE00DzNLOIIWNp4z7SeMCmvWHFdDGQAdGFKE7rggtcaIiN65spi8JApbl4j7CkLonjinGuxLnFNq74DzFPo54AzL2x+hyvZXHVO0wVDP+icM2hsND5SC6MKqRJv0tzZ5Yhqj5+KY3vYnMsvh0gJ8BAx3gDPdWXyZn97KIMf3k4LBn04Ud1z7yQ1z17LxJctxxx4mSmWjf7q4QgROlZ3Iic8547Jgq3fWUu2aUk071hWqlWnsyWD7cFU/TXzdiZZzf0FiatIQX4QtbwoYtSZPo8UI22XGd4Uk7RxdYdq3OnNE2a4vxYoqe08BDwNhcbMALKlggQSwAFobEdEFxL+ntC/5QO41ME80QpSq8YaKpQyVAKKYLPwuR6mZyei2QyLeJY1cgfTIOX1VD/+kpMybnpF8H7ri2EIFRcULU8Q3eV3sZIfKnYoqqzb8lRIClmWM9GtY9YBAvUzgOuEHI7OvqDq2JOokPluZyqo7pT911mJzZISSgY9nkVtKwvfbaK8hlmX1TWZq1oeyt9kSxeoIC1cBPJWzOoQTtN0IEtxMzZegI9GJyhrhgTCo1kwA7sPM+EDuD1fk3/ZkcWwXyx5I8cnj1xNFzDz74YN+VYu2g3KNfPQtGNrMOodRyf5yhhr4/NI6V279aaO6VCn1MLD2JBY286EDARLCtElOx/9dhVHaHsf1gdfR7Qwjx4jfBSOZkciSEmejfbrtCRzs7bmleOZiewBv3CDOItuMoeVuYET5nENr00zO8gehydnfhoD2ZHPcTG2H5sh8aF5N0WtOF5zq+hJkNCHi2733ZwSPMHL3DL0UO+dOReVanDnjz1kohUILkvNlCetqNYSCgejlx2tgwpNkIHA3dxwVBLFJsiqXZU+x+I1DMFGrDOCbnrB8H4gjLKSpQYXL0h3Gzr91sKUKALDjhEbYN1kPNLKMap4yQdAN7pK4ysrZMHCgCvZgcseToEMeMWenIErbfsFf7QpytZD17LrTT4PZp6p7529k04/Wvfz2RabKZCfZRtvN0p2g8Dscp7M+2O9Zsf+awxHZB87mdmCnLgIDVWcCl8bCQxlg3rXrd+nrHgzg1HKKLBjFN+fpFCSV2Jp9ZwydIS9ZUg7+jkvYtKoc+UqCFlMVdO86EhaE1JUW6ailIlvJul0q7/kZKh+nCrDFZ2A/s6eMPBb5QM6wIZwVaz0g17WS6YEcvz+3D5Mgn9jP0q5wEVAQe0/7E3bXlWXHhoAc7mYpTmPLmjyVe5cgcqP279dZbO1txTjAbz131Pw0MDNuiuqieGlTOQlqIl6MMGMEhDUuzKUaft1+BDm9wUr2QMCf0Uhuwn550iv5GHyjHyCllMmJyoGBsHumAshrYvkMRKhtIWZpL7Oa0C5FB67zrffbZh1XCQ6lkuuPPte7EwPYs4iytcYsan0tYTy8mx/XAhxKat2tzLJgcpVa45Ti1o+6tdVyQHH9l92dG6yLta4KNQS7Gq9AZf+08i0qh0xQ1a1F1Zj2LQoBNyNmwC2RylJNpF9DoCwGGnVjNfRjDtwcKjXPXTHFcCxYS7Zw2oJOj573vfS/b8yMf+cg40oyQEBNTbxymhNgKQAhxPjoUdB54i+lCJQ4YUmfUpvFkAyZH2FD3CQM7tS0FdgMQEv2fqCzaVM+pwuTcQgKKra7UKZFfFa/iAC2JRTB7Xz1lbSmLr3tZMGRQLAcgu8vSz5jhT4Xi/4QCY+Tt9pR68qKBgBMJTMlpdZVGJfVPlIukQETqxBmua0szUy5vUqnE6BJCZ2CL3ZTNeGaV4G33QfCiNpTMHRcGZG1pltPAjlE6LmwAZSS8RGoWlYzNPizNfc5xbDTGoCWdsVKfHUcH61XRCVn+iGkvyCOwPecjNornz/WMgFFnLXXGoQsDoM+Wmj4t7MXkjJXai4rJRVgAUsUU0XGQbGkBswHLBF9MMSaXW/0vqGjM0fVI7V922pwWkWk1/mkfkflnRoDhBPdiK5q5hrqg4U3HqFN6XpuQYufROCEHvs5ZQo9LcQIpiJehO60Ow2sjZIfFSAgBOwFJo1qfxy5MjjwQNicPPofwlYfOdsH1GQVZEertDqYbYWDdYXchfiw9xAZrXDuwrPu5wk8RKX8lW/RFzewi9oi0PytiT5W7rPheUJQi7YrpYrYgNlSS5omMMi5ibP6YT8qS4oKGwFnGyoKFl6au+AU5TXkWfb+odX+xPTJg2GgXaJMzyPscMTixFwZt2evthcb20iiFw1EtWJfpMOYvx6tTTqfljmFprgmiyutND+0WGtI2OgjDqJ9V9BOzbwa5Q6paIuhX9BDG9RjYiEJ5OkkdnzsX6dEwTJY8q+9iOWeN/QaGJeWBAkkZ9kYWgnwvJtd4EiFqSsQpUHY+92FysnGJzuNa1QZDf7fddivLbqNV+XPtIIBMEBsLZHJ9AmLa8AqsicNmsbSRRM0CysGqIFW4XrjbVbVTgsGIwKNqs1rZHC12RyWkjiVAqOgb3/hGljMOGt+8n/Oo7dp0gaXZpVHaY7qJQGDBoolZdLArn7C0RNLKSp4+F5hi2d8X+XkwETuLmp+8qA0mBzcd5DaqvbfsCtiz/BJn5jTsLmSezbZs/GgcxkzykX+4XURZkO426dMWlidmjpXUhmW9Ft63hMZC9lF2qQXa5BYVDFoszagh2VHHPRvDpictRfSqjQIGG+rjos4zcWAbQv4a5vZibB5pk2Nrp/LRJerKC5ObwdIc9RirRqwpZjxHq8wpZmaaD8IaeYwirgM7zetHr+Lr5Zw13BqGtxWGP5MgWxT+szA5g8aAczCvRvQ5i4TEZTmgCkw8pGpcrzzFajvubqYPEQGMhB4/c8tXXJ4RA45Kpp/oAnW/OErqHjGbxSmDFu5pjVhCW2hspgznCD4nrsAUwKtQWLF3GCSXK3cJaxxzwpycw4ofjFPjTe26C+xhjAT+LECsWQyQ/tgzNK92etZF2tdhurBfqnGLzCtMDhUod60YwmGR1No66G4ReGjcPNZ97+K/9sH/GAi9QXxOsBT3godGhBP5xwAZx9eVVq3ghfagwrZSFvPkCjZm5KON/5FTYGTm9ZZYBgzrQ8MWRZGgF/ljQqOl0JcEYRsVDQNbd1NZmkXICcWpsxUmF7sQ6ltOKTKX7fuuAzFZmuM4Hjkbs68u2+caYRUO6M9CwVRPA/REcU10TsWRVzxy7TC55Zw1zLHsstZwb6RB6Pu84nF5ZmFy6kL/g8lx/fCcxok4455BRSDSbLGpo4jGZR6ZzrNgAoy8lYkDRcDCOg+TW/Fen3DCCRFWjEXFEe3tJjl/JBIN/vbdiSm8aVZ2NgOqNj7H02rFx0KQD8sBDofoLMQJVZsuwo3bbhsOgdmEB0d0IH3XDo92tpEprAJt04WcReY1rBcEpIXFlqYG/S2Cedr9fSNbFYkc32S5P73DDp/85CezzKGePgi2PEzOGZzmize+hGypA9uVvcV0bSBFGzoGDPYjzBSTQ3TEZQrgaXC+jl4YkA1Ls8wUMJMFl4oIvDJD1W8zO/N5GfZRs5FWLM0jd0h0NGDcLQ0gbf1R8yhdHGgUMJktIBq2tPrAuO7Mlr60s4bdlKPD4jazbasNyIxMjoAxQDllWAiItG4mh4QxXNfxLu12dKfYTFQH6nVnzruDQGCqsOIl7BE/lzVRwzCthlIerXX3xBNPdI3qlU1qM3TERKNkW4sJhjgZi7bNHmbRL0JihmrrIoUhWfQ7xBg7aDH+hWCoK+m4JlDFY7RRKiKtZnJMFMLn7fMgh+o6rX0zmC4sUEhwbfCr66yv8WYubIeNU02lRwR6nWEFr3FKDLs25KxgY4by6A5Lc6ML5fhfU4wdq2MK1AVZjqlAjp2rE13TB7hoTVIal2lLSYgMTm9QxOEmjfxl9jEc9tk+GMUZ23jbJwb4Im2qNbBjwi7VqG7gsPCfSztrRMWQDhi/v0X1ekYmZ102PuIAKjFwPuLU0SDqOwEgmqcjT/etcXFI3aXybiKwjhCgXhc7ls2VDdNRPBTrCqOdILnYfDpDYyjr6CBliRmMPYz9QIwFisNeJZG7jU7F9TlDzaVIT9OF/CxVhXJBoNQw8YJnEJdqByMWIVeqVRXriA0HTB2Napku4sNE5G7D69rIWf9UM59pHyanFCTx42Byc6Jat2Eh10njpoWxzFDSp+MkOdXWoTv9BzZLM+NKe2ixmzqIBJNTs+EXgxyl8+kg+6JM4UZHCpPrMBw2ivjphFchrROZXBQstp9lG9Xtfi02ZTlnjfVQN42cBTZvRiZHdNnoEEyOyitmaJweI/6GNsBuUe8bWuzbytrWIAIW3DCJzd93auu0M6psZfD0RrxzaY99ZLF9zDI6gztDgJ3zGtE4oQX4HBuV7/DYbcCW+fjHP95ONDHa/K2sfVy3JmOxK5QG9Lyg3I8LkmvUwGLhLxL7h6mF6eIpT3lKozY/a5ucbFYV3NdyIYikTfuKwJvKdEH9JUTbjx6XUgLe87yGcRCNTGf7XOCOB/NxhinTaFgZMN2WZqVsWC5l+w/scZZmVRnYcVBXqCjGNr8t5cTQLQ+KC9Nc6FFc9w+SEwCAF/bf51RGNev+/MA2upA/p0KApda6rcgCg+TUNiOTU5LwcCCqC4oyMjcuVMh0koHHeqTdQvH8SwSmRUD4vxD1BTI5kc79o760NrycLkRZWRxHtj9cq26VBdqCzsPSdq+MLM40ZfW3p1JxwVs2nfG8oFw8qiSTnZ50fXo5g5N1AdVzDMHIeiYmhqlftommC1axIq0brs+OpyBSI00XitDuyGykHDPm99E1gUR2xbLJtSssghkg/aWRUEVR7e3axqUEVRXG3n6tqLlAEUKUa9tL1FojMKgneSyK2QvC2ifaC/UXdYjoKB1Bzb1K5tVGvIHKNV5OSz8vjCW0g6zLzGqrhWB0baTZoSIoZZyCjXiJB8czjGT7V/x0Fq78bYvROKDqdBvaIOOhdeI814ai+Vj4xwxV9bc0q7x47V33H9gG5EhLs0pqFcVPOY0rs7g9bm2sCUsz5CeOHFXFnyhSFsH+A7soYO2DJoRI2QgvA8zNLMPeHLekGEsGqgYbnBafxuCMZkw7igxOepr9JR6BD6C2HKAmjph7DaujL+RxgrdpZQCLy2psbPd0ViR7zHHZRuRon1ljRbIOg90mYrwFjFRuLg4PVZuGOVNwnH1UayFjX5QlSynLl8xmfaMZ/+89netcnuU0cgug2QFh64YaoB3dL9nmv5idyREn1rvY4czBOo7Jca2SdnZIzN/WrCERCARsCiPhTNqFAGK1Iiynqqqsaw5FG+mwMG/DhM62VILksE/EqyeTM+GtFDvvvLMjf52CFitFMDlNJeTsQcN4LILkhOV4qvbXmaOdUizi3bITVygF+0sRah4f0EhyZv+yWyKTrOz+RVvHrRW16cIiW5rRfUEU4an9D9sjacJAwvzZeK2GnOg9vgWeOHsPnVK20047+WA5caIL/rTwmGOOcQSrIwY7RLKDVNhTdZbNz/pp7GHhzgXkCnQccZFYxjZ6ROwhWIym6nQQjHM0RvYXej79pAZber0XdRKxHqGdrJsgbZTSBhYdPdJObWCFUrnTkrEKu6EVb+Sf+BMa5qNmTMzZMwP5PScv9JqcMBKPK6rUyKcjshCOW9h5ferNyPyRqHkAd0rOyDw1kyPyvV9fSBrJqot+wlw3MsPI+j0a2t7yyLvtxNh6ZbFqLz7aZqmhyjrlzug98MADjQRtNqSRWoOEHwBE2223XaPaaUcRAkQ7VbP1UEs81KBVs/VBG+rgK+OQjir4Hk/ydMuC6NWaKplr++67LyXEwlif4tln1lgqDznkEJEq0HYUiPnu07caQE0SA2NF8kacDMBYUNbt6DjAqSs2AqtBDIaJRlvgQ7ek61T7VCb58UW7ho0o+U1D2Rwmh7JrJ//7yCWxAXL/n7MzuaDw1jIPQ5+NqvbBEBYpY8j6QkHs36bMmQh0I0CIbrvttt15prrbXxGPaklcMxP/s46MlHxireJ8DUtkqZzCY23q2TAnm7DE0FlrVZXIJGyiBtONfd5yQJ2lF/astpFNF/rs74tSNZOzFtdVIZ0EZxFg9S22SQ7otrdUHtApgnO4tkrSs32DwWJaF49rpi/roGvr4Ljdte1S3gKd2L/kbh+fAPIkv1e24447NmojdSz05BkQSDvCwIqnyySQKF5iwMKNELzkJS9BiMcxOTLSlz1p5DZIKujdQUC/ME6SSYWIV4wQYtLSapxznbMWEDkE7TgmF/5opN8eTCNTnfrLYYJ66kjtJiZCDELnApLQ8hs58DeQiEYq95577slx359PFIiEipJMc3KvUpsLg7y/l7MuWK77W5pBoftRkCbTkGK2Tehae9oyYSjYDpKLespEYPX0YS7b9Uzk0rb6ouhR01qaVWK8de81jAcxPonEcC1CQ1/qp7MtUT+OPPJIZmbjDYMxT00xpwpYUsxEI9CANzZqJjfDKEIDcDKgGedGi5drxfBo8x3nxtKKDkOb8vULVi6fFzOnfHjD1FOqXnCQQpTDIGmsKn1mDaLmpTzjGc9AYHA4R89gKZ5OeUPvPN2sMXjMqZrJmaHSQWQZsSvAghbRYlQgw4DzpMHktNx7N2ctGr417+2TF6inCR6UiT2y0fj6vcxy7a3M/Bfjw1ONfpbJdj0CfdylGrZvZUoiMFwECK2IoaaltHth6SwHrGCckcHctjyZ3u38PVP49SwH1llV9SwyMZu1rzBRMr47fx3lY9GvM/vOPXJTp8Q1zZt3xsF77VuRQlTEskVtdfgtYEfmdGRrZLMmjsvTLhjnp0OMNGrfbaSQi94ma+tLX/rSxiO8ULYx1FwRvCpa8oAHPICDsq5EQbdI9zqxXLOj4HxkmGWTYCjpLmj2FHfO2TgkwtONH3a4eNFEoGo33XTTukh9jcBZgVkHS6KCLJE63liWec2YFYlAhgSvpuR34Q3KTzLVicO9Lp/ogHnjbTY6pePxQv1rUtd3WYzwiZGYGKusMo33WMrSB6JOkLKpI0zlVn1hO3bhzVh+favjmimIJVX92NXEpYB6YPygSoYlBtOoll6B3kVi7DFC9YIES4Qb+7duqqEuOO0oMghVjg0zfWlPqUr3g8A587wkmh3cqbi1FFNGNxHKxiuISBhcs36zPWeNgYG5qtzTQ2mkz2Bj0YAwsZtrzJOREv+yEdKoqdZxgG655aE+0sg0WFLigk6IzdMJC5iRXvz46GmjyJw/zzVPeQO0WAgoo+2qLNPGEGnRvpUpicCgEaCi4UAEM02r7gitzhG4Du8OdwD/S9xFFKhxtNI681TXljPrmocSMFMV7MjM2BMixzrL4NeR0616A6Dgj5KZaGEdpN2WlLiQzi1Ci6WbNm6Vn6UB4sAQppJeX1j9i4Os4FlnGHeNbAViFO7Ga2oUsZQ7oo+WzMXZboaYNs3DpJWKBjPCcZ00KokDKcSZNNL9hG34j4QzgqWdwaKvqUF5uW+QfifwySZzwB6ft2kXlGJcGWwahllG4wkYQlrQIctHKYK6RZSLFhYahwqwiRKfbsVZeiX/cC+AwDkYA1unujtCJ4mc/vWO6sxuMQAXrMothjo0witj0i6J9QWGF15aTM7Xk+tb9XXRCsJgU9/quDYaw8DMIYCG1mymUcrE8V1m7WS6Y8Rq3PVThEbob4ZZcEoHI9cV4pdqqJnotKMIFMgibNmxgp+VZnho+EapQCWRG7poiQxyCmKTNWHVPOxcOhNyKeWiz6zxvswmPFt+8QAq8Vcjo0lcwE6Yqpvqdccp6CyIBRyrAS+wCUtlatAyRvdwkuy+++51yz003Bpma5tV132Z4Xp27yoIEGpaLD+3awPCIvgfYP73ZxFBbBmWGS3/l5b/JwKrBAGKo5gJ4px5w8ZMRhGT3NwmFC0H5If1giXfwqfDUqxW1MHiRJgBBTzDEkZ36uMoHFe/RlqYrHoWNSLcshU5rR122/EFECocGUUQ1vWQc2WfHZdEKchLQmZQbSMFW8VChPTxlorH8kT/qplE0f0wJ5Rqww/lcWhQ7VCzemgeMQBABKXossxXqmU588faF3S51FZfwJyLBFZcmd4LBw3riHW84b3Vch4uNJTQol5zndTNiAo1nhkg/G7hjMYsg5nVT4yVMBbxOt012cDBhC5rDIQbd7WBhUCiyGj/ajPCGkCpk+RWxJFgjVLlJzFjsAnBMd4gqSD+wZgk1C/aHDmhQWi5BhrbsPdiGJA0Hudt6o7xWecv9Q/iwsAw8AwYqhSoGVei2TzgtI4YMIRRu4Mszd6v4vKXUe0apNgwHzQ3nJ/mC6MsfQDpJ9dMBHWyQxPkOBArjp/xRP+aqkw4QgK8NftISroLU8NTtNME4ZWLW2afQa6emH0lHqMuWK5Zqrw7RmIzTjiXlntEeOpLHhfaLyKTwmnScSOO3ClJw4koUhEIEb1A+SlGepXwhNZ1up52FJmtdlQoaPbhtXVt/KoBO72lpFtXg6iZEUGyFaxXPK8AsPI3jlvvM2vksVbH4hazFTj14QPwb38Dw4cxNNUTNcmQMGWsTqpC5lxwnmpzab8Lyx2aaAx4+3XL3TIU/WvRq2Nm6rIzX8/F5LTSYApEiAE2gzpi2uJr1BpD7ZVr5uZmwURgSRAw1CN6w54DNgCGd6sSKcJHtsMOO1hnabfmPKHCXE2ptXzvt99+9So5bUdIlP33399smmdCMQ5pNkFCGFgTNYz8cK2pwr8stSY18wzNuN083hzrOH+BW8LarL+sgwjQcccdh+iUQBb1kHmUWnqnBzFOiGthMfIgi6aY+rpm1gLpKFSDADFXYFcaZrm0UwRueIlGWgo1GxchODlPyeC6tvqaEZRybF3WNv4ddkH+SuRPEJumRmQbaUpL5i1SkCWVzIhVvq7HtcRIxw5JJinCYhpvAWMgjN3iamkU1wsCVeORhvaWWJkJXSPHhVb5F+GLyHQCnlsHAoSWHWaNastPtA8nswJHNIuXSHm2GZbQqhdkbwpl1Gw2Oeh50cFZ4a93GlZzkVL5UC6I2zCugAIvMQ2NGf0lnkxPA0bHGSnLKC39QnzZToxPctqeUEOXlPUvW5QQwxL/RJwZP/QKMwhlNKpVbgR6KMAVb5xdj0zTGVhSa1S9SuPfUuDNeuOGpVHt2gjhwZTfS3FKXAk5KI2sLwSessKaxdQJDdBxk9Hw8NK1iqYXHTHpDEgzDl0zfkbqPDalRs0xBdCaMD7Vj2tcTzuK0Bqg6Vr7zBQalI7z3ta2nkJ8NQl/MIABUrcBScKfLIZ1HJsMfWYNHi8UIWoLUoXIFr9i/ZT6mlXVTyuVOWJQQdLEURXCTTvV+Bpb09zCJb/MdYhqVBgHGvA1tzWKyDDzv3MxOU/F5JgcXZgt5kwNOouFMbrYyPSZ+5kFE4GFI2ApIQUtoyQx+WF6W0/xm6AXlGAznOC3fHMiUHZLHPRsLbHKl2VuthqUst4RALEeaZ46/ZmnFiB/Flb/jlvNrWXIqBAQ7IecQCvVhtwgQLXujirpqaVK/f6icmJPzW1NFAPG/EgUOetOWd95VbTtv3X8p53aHM2Ldvrp6XWRxjUxSVd2FitRTfJ5O0xWmo13aowKKc3aph7mKFFEZN7ENR07xNgU1LbG49hpyGaUqEFJZSO5w4rA2DByBQ9yLGfEKpWaWSUJTj9tXPDQkt64MCrQFC+F5GPV03EWI1YEhiIGg5KZLdY1aR3eLsCqU/dLhkFf4Ojepk6VMaM7ZUi7kF6TqtJZ6VzeOBBi4f2ychl78pPTgCpU2PiBc4zGeIo88ee5QcFLnS6wMYTDK6gToS1OUanSTk9XvAxst7pXCZkZz2gdxrbxz4SMLhjY+I2xHQgYY7HmYKhWoe4Ko3lqcIHWjISo7sK0oyg4ovA7pKeux3XQmvAzNG75yaDoX3GxRmx912vy00pbXk1913WfWQMfSqnM7YncqM2rMSokenHs3C7A62/cxEGEbLaVjUbXWKAslWHRH2kfbTx32p/zMjnE00JJR/FgDtbC5OjiVkzvj/t12jatkfwmHhJgSBGcVHBSxDy04hth7Bn0GGolWjBuH9waQWnJu2mVtC+bqDZLqdfhiIk2W6zNWPPZ3LbQ17dWsFOoZ/cXWTraZvGy8NFBsQTklUFOp8gqQ1RnS8Htt9++XE+8oKyX3SF1Zuu7vzpl2mtrPcso9qmglquNScyibLHyvjjL8BjvxfLFmtKWxCMfx7FlkiINStUZLPe86lJotiFg+HP91Ab/epZp7qKto0skvJlVXLDiNFggnywDpMdttdVWMmCKJG45SEJLWC7ZHQl1ZBRBZy7iVWTCZMnDLMm8mskRPyqxJk8krLIN7g/y/mZrNtKGeKHRqHD4+5juvIuI4oo6DaQYSz0fUfvsShGvIGK/SsoMFwzYOGWwBC1nZMLAMHivPtzlbIRkB7FCccIUJz6iP61R1bSjiOajVFiz6pZYPTq4lLEdPA+MNWcy0SKdZIx0dmhrLJ5dKu+eNZGNuyBIi3pKwZEXnhJdNg37TByrPfKjqpj7dZ0MvdBQW4wN0xmxm3nQ1jW7npfJWcot7rGKsTMbE6E7YiRM3KbHkgiwRrdX/KdgCw6X+Y+nWvGOZAOslejROBwYS6j44+4OMf0/jsb/hZMvc/vbK6mF2A5ZfzM3m69c2bZzBAPgkbDoR5ANOSSexo68aAOK78/CPdKKQJ6xybEJ8QL7t7QN/xNJ7afwtbDy4m01k7PA8odgHsg0YWbhZXr0h4JYhzG5moioJ+xDIZbKU+oLvcB057f71nUO5RoxYnRYfruDMdaIypKCsfmbGepCaygDEyuZdhQZupSNtl3QsKd4eNxILmXwK+VuvV/eT0M0LF4R3sfq6ciSevfxxFkTHeRaRQpNlnH+h8jmX/DicIzcHROHUcY6H03FKUkElbe7HF5KqlTogayVWOmimNxkwl66NO6inAmMnURgoJwiwemajTE3roY1mG6NNsQFHlmmsV6RsyIeLKO4nRQ7HynTdHRmTuHkaxCf7HIisGwIMHiEc6TtkZHOiG7tDjsiYSOsikUwusDuGOs1a1mjU1LitBGxbsWhEXmEMFLiXUeolvrpfrX7FZMjDlEQNLFRLUseiRJbd8stgUpaQmzrSEksF2KqHEFXNgqU9LxY9QigNYQ1WhMsrbu/046imCziGepqDUIbdKSwfTbiCyMb/hRGx1q34fewFz5Gb7iqqE+0pjrPxFkT9YeLto83WX7RI/4VtBBl638xNvyMR17bIp1WH/pbo8vc3yHK3Q1S6GC5Bk+ta572egFMDqe2QHiwpjPLuTAsdI97Gy+ZtkFrIT/nDgswGmewcqTqMts4YWDEUIiNS+PYy+a2cyuEx1qAJfuYCCwzAiKEOEcY9tqOMyueltPduSB4bRjkzO7aAytiiVfage+OZIo+Mh7QyJ1Qau6LgrenteG+sAhQ7un6GCHbgx0bKqzjEZlhONekxEIR1TLRCWQUY8SH3vDVYpkCv3A1IiQcQIpYtPXLQV80STa8kQaSqDn/Xa0IBK1h1p0YJAeBaUeRiWCgMmaHBQ7jYYEWGhvxcxhCkIcGtiRj7A2XDVtyl9fSFKCicBz7yYOsKluwhZDW1rKJs0ZZFuvY7tAzXi22jECJRRxxjKZ6uhhoHM6xyYL5Ch8VZ+LgAqsEChT0joh3jcYFbwt/N/ONeL56Oke1M/87r3fVg7laGKWDcHBa261DWURgaYRtZXHmhq6mgvQGRl3rvk7FsQ7CdCyyDb9P6Me1wrGaQMi+JALDQgCNswrbBsh60Wg5bsc1YWmOLZC2cTidjlAp2WyOcbgxJudEWQdGWO5JJv5WK6SNIyx27UA9mrDoFJ4jBnvEi1SwtNargTXEBkayjYOJ5CMR5SE20Eprr+jsCHQpbSCnyRgeXo7XoKQIIqmmMUgkzxrZucoiAUrf86IDASZkY7XsY+3I6da0o4jxzKcBxF9hb1QFmoaxaugGy2mbt+Pp2iPYAB/ilWJjDTEQAAAGLUlEQVSNNuzF1WFsvkFCbiJwxry5YyYWl2AUnDhrZLO3l7qlznFPj6rKvzQo5mpuNGc24TmmlZkbhEwlTObWhFoNc/akMGLk1ZSX7nF4Jx3JskB/47oEhWlrdrd3UpeHTntx7sIxpy1Z57cYWVOkMOmjcTpsyXCKjEiROlteBwIomkUfkfeTA5oObRax0tG/a4hoDPQAwBpGdXpeJwKJwPpHgPGM/s2K0LbJWUXFynCgkHPWbis7a1mjhfLQb+2EQJ6YGRjD6MDsbdb3mvPVpTyRPJCf8MMF2xsmUDGqINmgcqJFPf7l5CU+x9lX7Hxk5+AWQPjCAaQZAtIZTsY1o25SXq8+BByThFggSf3jX6caRYaZMACBBIa9wcyHS2+JM0TMmobluMArs/kiSgGHQ+lMAc5Q5me2PcZs9MhEYyAMg0gp5WLirEENMRYsyu6Thsyt62lcm2XRGBNHLxTE8BhfRga/UqjI7tg9Y0rKFgY5s9UKQHeCAP1NvxpPmfnnYpico4wiQEQ7HL5y0EEHeQeCPNrL2cwNXZUF6SXiHxE73w9p7PijNDPY4v6OIVigDXZVwpidSgTWDwIWcavwuGehUzLUvp6ROWUj2xoGs5E5I5HYUGc3zQoZSdp1Z6ufws6n2jAt1Ol5vdYQQDuMsY5tWx2ATDWKykh2mrojl9ED9K62Zo18kDllyjSmlRlkJnaM9vKskXVirmzYEx/dLqslutxzoo1bELqXkfZD+6QswLvqMZRFdk4WRdcOShU8KzI39lv1acSazSPwE2MzRutA5kCDLo7G0RsitHPNQpQdTwSWB4EOGqeR5EpD3oxsuWz9aZwa+mRGyPpbF6JVpNHI5mXiWkOg7dnvj8BUo6iM5Dhe25a+Plxq5KSbONHKs0b2ZWYbk8nbf6KNWxBG9mhkO/snLmDHg4d5HyVUlmMbx+c01I3+7VibOeN4KmY5oTM1Ari8wAIpIlfiKAFRyf7qPHmdCCQCiUAikAgMC4Fwtmpzn0NPhtW1FWztYpicDpTAQ5YkxG5tHko07YtkeFPE+fINDYN10+YaVLgcT+ULfdz/09af+ROBRCARSAQSgWVAILYafPjDH+aM0h5eOy4prsZlaNvQ27AY7yoU8Gvhe3HWi89Utz/NMXSkFt5+QXLiQFXb3kFjg4xBL7ozYqvj4Cg71xbehqwwEUgEEoFEIBFYDwjYu43DOXTW1goEznEkdv7tsssu9Xk966EZq/IRC2Ny4uQceWfrA5jsws1A2onDBT9zjLUtZmxyjcx260ixVVsEg/0QDHKOFbDHrZEtfyYCiUAikAgkAoNAgDhD2ggyHjxMjpt1XcT+DwKKhTdyYUwOddt6660xOfGALhbe0NVXoSNt+E/ROPv/G71zSKODDFieHddpv7dDa3ybMuMOGyjlz0QgEUgEEoGhIOATsUNp6uDauYEv9y2q0cxLPgXNV+iYlrTJTUQVM3NctRNE2x9osyHcNggETvycax/vin0PE+vMDIlAIpAIJAKJQCKwphBYzHlyARmfIBuSkzPLPtY1BeUMne22LdvBOtW5UzM0IIskAolAIpAIJAKJwKARWCSTGzQQ2fhEIBFIBBKBRCARSAQGh8DCTiEZXM+zwYlAIpAIJAKJQCKQCAwdgWRyQ3+D2f5EIBFIBBKBRCARWLsIJJNbu+8+e54IJAKJQCKQCCQCQ0cgmdzQ32C2PxFIBBKBRCARSATWLgLJ5Nbuu8+eJwKJQCKQCCQCicDQEUgmN/Q3mO1PBBKBRCARSAQSgbWLQDK5tfvus+eJQCKQCCQCiUAiMHQEkskN/Q1m+xOBRCARSAQSgURg7SKQTG7tvvvseSKQCCQCiUAikAgMHYFkckN/g9n+RCARSAQSgUQgEVi7CCSTW7vvPnueCCQCiUAikAgkAkNHIJnc0N9gtj8RSAQSgUQgEUgE1i4CyeTW7rvPnicCiUAikAgkAonA0BFIJjf0N5jtTwQSgUQgEUgEEoG1i0AyubX77rPniUAikAgkAolAIjB0BJLJDf0NZvsTgUQgEUgEEoFEYO0ikExu7b777HkikAgkAolAIpAIDB2BZHJDf4PZ/kQgEUgEEoFEIBFYuwj8XxXuaR72mqcTAAAAAElFTkSuQmCC)"
      ]
    },
    {
      "cell_type": "code",
      "execution_count": null,
      "metadata": {
        "id": "H3Vonb6h0zWM"
      },
      "outputs": [],
      "source": [
        "def readAndKeepAllArtificatsInMemory():\n",
        "  basePath = dataPath+\"artifacts/\"\n",
        "  for i in range(0,len(artifcatNames)):\n",
        "    data,sr=librosa.load(basePath+artifcatNames[i]+'.wav', sr=global_sample_rate)\n",
        "    artifacts.append(data)\n",
        "    \n",
        "def getArtifactAtIndex(i,input,chunk = -1):\n",
        "  #Tuple Including Data Matrix And Sample Rate\n",
        "  length = input.shape[0]/global_sample_rate\n",
        "  currentLen = 0\n",
        "  selectedArtifacts = list()\n",
        "  #Combining Random Noises Until The Whole Duration Of The Sound File Is Covered\n",
        "  while currentLen < length:\n",
        "    data = artifacts[i]\n",
        "    selectedArtifacts.append(data)\n",
        "    artifactLength = data.shape[0]/global_sample_rate\n",
        "    currentLen += artifactLength\n",
        "  if(len(selectedArtifacts)>0):\n",
        "    result = np.concatenate(selectedArtifacts)\n",
        "  else:\n",
        "    result = selectedArtifacts[0]\n",
        "  #Making Artifacts The Same Length As The Source\n",
        "  if chunk >= 0:\n",
        "    result = result[len(input)*chunk:len(input)*(chunk+1)]\n",
        "  elif(len(input)<len(result)):\n",
        "    result = result[0:len(input)]\n",
        "  return result\n",
        "\n",
        "def calcArtifactBasedOnSource(data,artifact,ratio):\n",
        "  #Calculate The RMS Of Source File\n",
        "  DataRMS=math.sqrt(np.mean(data**2))\n",
        "  ArtifactRMS=math.sqrt(DataRMS**2/(pow(10,ratio/10)))  \n",
        "  CurrentRMS=math.sqrt(np.mean(artifact**2))\n",
        "  artifact=artifact*(ArtifactRMS/CurrentRMS)\n",
        "  return artifact\n",
        "\n",
        "def applyArtifactToSource(data,artifact,ratio):\n",
        "  artifact = calcArtifactBasedOnSource(data,artifact,ratio)\n",
        "  output = data + artifact\n",
        "  return output\n",
        "\n",
        "if(len(artifacts) < 1):\n",
        "  readAndKeepAllArtificatsInMemory()\n",
        "  print(\"Loaded artifacts into memory : \"+str(len(artifacts)))"
      ]
    },
    {
      "cell_type": "markdown",
      "metadata": {
        "id": "oobiagdPYBdd"
      },
      "source": [
        "#Clip Generation and Noise Application"
      ]
    },
    {
      "cell_type": "code",
      "execution_count": 25,
      "metadata": {
        "id": "FYyrk2IEX56U",
        "colab": {
          "base_uri": "https://localhost:8080/"
        },
        "outputId": "433b21a3-0eee-4405-ea49-08be969b940e"
      },
      "outputs": [
        {
          "output_type": "execute_result",
          "data": {
            "text/plain": [
              "array([1., 1., 1., ..., 0., 0., 0.])"
            ]
          },
          "metadata": {},
          "execution_count": 25
        }
      ],
      "source": [
        "#Generating a 3 note clip\n",
        "numberOfNotes = 3\n",
        "# generated_data = combineRandomNotes(numberOfNotes)\n",
        "# Applying noise to the generated clip\n",
        "# artifact = getArtifactAtIndex(0,generated_data)\n",
        "# sf.write(dataPath+\"generated_noised.wav\",applyArtifactToSource(generated_data,artifact,10),global_sample_rate)\n",
        "\n",
        "def divideSourceByChunks(source,time = 3):\n",
        "  currentChunk = 0\n",
        "  result = list()\n",
        "  chunks = int(len(source)/(global_sample_rate * time))\n",
        "  for i in range(0,chunks):\n",
        "    x = source[global_sample_rate*i:global_sample_rate*(i+1)]\n",
        "    result.append(x)\n",
        "  return result\n",
        "\n",
        "def addPaddingToSource(source, goal=90):\n",
        "  sourceLen = len(source)/global_sample_rate\n",
        "  diff = 90 - sourceLen\n",
        "  dimen = int(diff * global_sample_rate)\n",
        "  padding = np.zeros((dimen,))\n",
        "  output = np.concatenate([source,padding])\n",
        "  return output\n",
        "\n",
        "# divided = divideSourceByChunks(generated_data,3)\n",
        "addPaddingToSource(np.ones((82680,)))"
      ]
    },
    {
      "cell_type": "code",
      "execution_count": null,
      "metadata": {
        "id": "C2V3a50SW-tB"
      },
      "outputs": [],
      "source": [
        "def generateNoisedNotes(min,max):\n",
        "  result = list()\n",
        "  basePath = dataPath+\"piano_triads_2756/\"\n",
        "  for x in range(min,max):\n",
        "    forEachArtifact = list()\n",
        "    outputPath = dataPath+\"noise_applied/\"+artifcatNames[x]+\"/\"\n",
        "    if(not os.path.exists(dataPath+\"noise_applied/\")):\n",
        "      os.mkdir(dataPath+\"noise_applied/\")\n",
        "    if(not os.path.exists(outputPath)):\n",
        "      os.mkdir(outputPath)\n",
        "    for i in range(0,len(noteNames)):\n",
        "      data,sr = sf.read(basePath+noteNames[i]+\".wav\")\n",
        "      for j in range(0,3):\n",
        "        artifact = getArtifactAtIndex(x,data,chunk=j)\n",
        "        output = applyArtifactToSource(data,artifact,0.5)\n",
        "        filename = \"audio_\"+noteNames[i]+\"_chunk_\"+str(j+1)+\".wav\"\n",
        "        sf.write(outputPath+filename, output, sr, 'PCM_16')\n",
        "        forEachArtifact.append(output)\n",
        "    result.append(forEachArtifact)\n",
        "    print(\"Proccessing done for artifact\",x)\n",
        "  return result\n",
        "\n",
        "# generateNoisedNotes(0,len(artifcatNames))\n",
        "#Noised is a 2D list in which the first dimension is artifact category and the second dimension is source sound\n",
        "#To access all the sounds generated by artifact 6 you can use noised[6] and to access sound 7 of artifact 6 you can use noised[6][7]\n",
        "noisedNotes = generateNoisedNotes(0,len(artifcatNames))"
      ]
    }
  ],
  "metadata": {
    "colab": {
      "collapsed_sections": [],
      "name": "Poorya's Version.ipynb",
      "provenance": [],
      "include_colab_link": true
    },
    "kernelspec": {
      "display_name": "Python 3",
      "name": "python3"
    },
    "language_info": {
      "name": "python"
    }
  },
  "nbformat": 4,
  "nbformat_minor": 0
}